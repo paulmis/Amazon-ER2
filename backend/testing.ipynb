{
 "cells": [
  {
   "cell_type": "code",
   "execution_count": 1,
   "metadata": {},
   "outputs": [
    {
     "name": "stdout",
     "output_type": "stream",
     "text": [
      "Create new client\n",
      "  Using region: us-east-1\n",
      "boto3 Bedrock client successfully created!\n",
      "bedrock-runtime(https://bedrock-runtime.us-east-1.amazonaws.com)\n"
     ]
    }
   ],
   "source": [
    "from api.ai.interface import *\n",
    "from api.models import Comment, LLM_Result\n",
    "from api import db, app\n",
    "\n",
    "app.app_context().push()\n",
    "\n",
    "comments = Comment.query.all()"
   ]
  },
  {
   "cell_type": "code",
   "execution_count": 2,
   "metadata": {},
   "outputs": [
    {
     "name": "stdout",
     "output_type": "stream",
     "text": [
      "Nokia Lumia 900 16GB Unlocked GSM Phone with Windows 7.5 OS, AMOLED Touchscreen, 8MP Camera, GPS, Wi-Fi, Bluetooth, FM Radio and microSD Slot - White\n"
     ]
    }
   ],
   "source": [
    "import random\n",
    "random_comment = random.choice(comments)\n",
    "print(random_comment.product)\n",
    "\n",
    "# Get all reviews for this product\n",
    "reviews = Comment.query.filter_by(product=random_comment.product).all()"
   ]
  },
  {
   "cell_type": "code",
   "execution_count": 3,
   "metadata": {},
   "outputs": [
    {
     "ename": "TypeError",
     "evalue": "OPTICS.__init__() got an unexpected keyword argument 'seed'",
     "output_type": "error",
     "traceback": [
      "\u001b[1;31m---------------------------------------------------------------------------\u001b[0m",
      "\u001b[1;31mTypeError\u001b[0m                                 Traceback (most recent call last)",
      "\u001b[1;32md:\\lauzhack23\\backend\\testing.ipynb Cell 3\u001b[0m line \u001b[0;36m<cell line: 2>\u001b[1;34m()\u001b[0m\n\u001b[0;32m      <a href='vscode-notebook-cell:/d%3A/lauzhack23/backend/testing.ipynb#W2sZmlsZQ%3D%3D?line=0'>1</a>\u001b[0m analyzed_shit \u001b[39m=\u001b[39m analyze_comments(reviews)\n\u001b[1;32m----> <a href='vscode-notebook-cell:/d%3A/lauzhack23/backend/testing.ipynb#W2sZmlsZQ%3D%3D?line=1'>2</a>\u001b[0m clustered_shit \u001b[39m=\u001b[39m cluster_llm_results(analyzed_shit)\n",
      "File \u001b[1;32md:\\lauzhack23\\backend\\api\\ai\\interface.py:25\u001b[0m, in \u001b[0;36mcluster_llm_results\u001b[1;34m(llm_results)\u001b[0m\n\u001b[0;32m     23\u001b[0m     \u001b[39mreturn\u001b[39;00m llm_results[\u001b[39m0\u001b[39m]\u001b[39m.\u001b[39missues\n\u001b[0;32m     24\u001b[0m df \u001b[39m=\u001b[39m llm_results_to_pd(llm_results)\n\u001b[1;32m---> 25\u001b[0m clustered_issues \u001b[39m=\u001b[39m cluster_issues_for_reviews(df)\n\u001b[0;32m     26\u001b[0m inverse_clustered_issues \u001b[39m=\u001b[39m {}\n\u001b[0;32m     27\u001b[0m \u001b[39mfor\u001b[39;00m issue \u001b[39min\u001b[39;00m clustered_issues:\n",
      "File \u001b[1;32md:\\lauzhack23\\backend\\api\\ai\\issue_extractor.py:105\u001b[0m, in \u001b[0;36mcluster_issues_for_reviews\u001b[1;34m(product_reviews)\u001b[0m\n\u001b[0;32m    102\u001b[0m embeddings_issue_names \u001b[39m=\u001b[39m np\u001b[39m.\u001b[39marray([issue[\u001b[39m'\u001b[39m\u001b[39membedding\u001b[39m\u001b[39m'\u001b[39m] \u001b[39mfor\u001b[39;00m issue \u001b[39min\u001b[39;00m issues])\n\u001b[0;32m    104\u001b[0m \u001b[39m# OPTICS Clustering\u001b[39;00m\n\u001b[1;32m--> 105\u001b[0m clustering \u001b[39m=\u001b[39m OPTICS(metric\u001b[39m=\u001b[39;49m\u001b[39m'\u001b[39;49m\u001b[39mcosine\u001b[39;49m\u001b[39m'\u001b[39;49m, min_samples\u001b[39m=\u001b[39;49m\u001b[39mmin\u001b[39;49m(\u001b[39m5\u001b[39;49m,\u001b[39mlen\u001b[39;49m(embeddings_issue_names)), seed\u001b[39m=\u001b[39;49m\u001b[39m42\u001b[39;49m)\u001b[39m.\u001b[39mfit(embeddings_issue_names)\n\u001b[0;32m    106\u001b[0m labels \u001b[39m=\u001b[39m clustering\u001b[39m.\u001b[39mlabels_\n\u001b[0;32m    108\u001b[0m \u001b[39m# We group the issues by cluster\u001b[39;00m\n",
      "\u001b[1;31mTypeError\u001b[0m: OPTICS.__init__() got an unexpected keyword argument 'seed'"
     ]
    }
   ],
   "source": [
    "analyzed_shit = analyze_comments(reviews)\n",
    "clustered_shit = cluster_llm_results(analyzed_shit)"
   ]
  },
  {
   "cell_type": "code",
   "execution_count": null,
   "metadata": {},
   "outputs": [
    {
     "name": "stdout",
     "output_type": "stream",
     "text": [
      "dict_keys(['phone slippery and hard to grip', 'not recognizing SD card', 'low internal storage', 'phone hardware quality issues', 'battery life short', 'customer support unresponsive', 'phone performance slow', 'case quality is poor', 'extremely limited storage', 'slow performance', 'software crashes', 'lacking user manual', 'phone stopped working', 'phone freezing', 'unable to delete apps'])\n"
     ]
    }
   ],
   "source": [
    "print(clustered_shit.keys())"
   ]
  },
  {
   "cell_type": "code",
   "execution_count": null,
   "metadata": {},
   "outputs": [],
   "source": []
  }
 ],
 "metadata": {
  "kernelspec": {
   "display_name": "Python 3",
   "language": "python",
   "name": "python3"
  },
  "language_info": {
   "codemirror_mode": {
    "name": "ipython",
    "version": 3
   },
   "file_extension": ".py",
   "mimetype": "text/x-python",
   "name": "python",
   "nbconvert_exporter": "python",
   "pygments_lexer": "ipython3",
   "version": "3.10.11"
  }
 },
 "nbformat": 4,
 "nbformat_minor": 2
}
