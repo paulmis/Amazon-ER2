{
 "cells": [
  {
   "cell_type": "code",
   "execution_count": 1,
   "metadata": {},
   "outputs": [
    {
     "name": "stdout",
     "output_type": "stream",
     "text": [
      "2023-12-02 23:06:57,752 INFO sqlalchemy.engine.Engine BEGIN (implicit)\n",
      "2023-12-02 23:06:57,758 INFO sqlalchemy.engine.Engine PRAGMA main.table_info(\"llm__result\")\n",
      "2023-12-02 23:06:57,758 INFO sqlalchemy.engine.Engine [raw sql] ()\n",
      "2023-12-02 23:06:57,758 INFO sqlalchemy.engine.Engine PRAGMA main.table_info(\"comment\")\n",
      "2023-12-02 23:06:57,758 INFO sqlalchemy.engine.Engine [raw sql] ()\n",
      "2023-12-02 23:06:57,765 INFO sqlalchemy.engine.Engine COMMIT\n",
      "Create new client\n",
      "  Using region: us-east-1\n",
      "boto3 Bedrock client successfully created!\n",
      "bedrock-runtime(https://bedrock-runtime.us-east-1.amazonaws.com)\n"
     ]
    }
   ],
   "source": [
    "import sys\n",
    "sys.path.append('..')\n",
    "from api.models import *\n",
    "sys.path.append('ai')\n",
    "from interface import *\n",
    "# Sample comment\n",
    "comment = Comment(\"Phone\", \"Apple\", 1000, 4, \"Garbage phone\", 5)\n",
    "analyzed = analyze_comments([comment])"
   ]
  },
  {
   "cell_type": "code",
   "execution_count": 2,
   "metadata": {},
   "outputs": [
    {
     "data": {
      "text/plain": [
       "[{'issue': 'build quality',\n",
       "  'confidence': 0.7,\n",
       "  'severity': 'high',\n",
       "  'comment': 'Phone feels cheap',\n",
       "  'embedding': array([-0.21191406,  0.19921875,  0.15625   , ..., -0.28125   ,\n",
       "         -0.7421875 , -1.140625  ])},\n",
       " {'issue': 'device faulty',\n",
       "  'confidence': 0.9,\n",
       "  'severity': 'high',\n",
       "  'comment': 'Phone does not work properly',\n",
       "  'embedding': array([-0.60546875, -0.2734375 , -0.33007812, ...,  0.21582031,\n",
       "         -1.2734375 , -0.3984375 ])}]"
      ]
     },
     "execution_count": 2,
     "metadata": {},
     "output_type": "execute_result"
    }
   ],
   "source": [
    "analyzed[0].issues"
   ]
  },
  {
   "cell_type": "code",
   "execution_count": 3,
   "metadata": {},
   "outputs": [
    {
     "data": {
      "text/plain": [
       "{'build quality': ['build quality', 'device faulty']}"
      ]
     },
     "execution_count": 3,
     "metadata": {},
     "output_type": "execute_result"
    }
   ],
   "source": [
    "cluster_llm_results(analyzed)"
   ]
  },
  {
   "cell_type": "code",
   "execution_count": null,
   "metadata": {},
   "outputs": [],
   "source": []
  }
 ],
 "metadata": {
  "kernelspec": {
   "display_name": "Python 3",
   "language": "python",
   "name": "python3"
  },
  "language_info": {
   "codemirror_mode": {
    "name": "ipython",
    "version": 3
   },
   "file_extension": ".py",
   "mimetype": "text/x-python",
   "name": "python",
   "nbconvert_exporter": "python",
   "pygments_lexer": "ipython3",
   "version": "3.10.11"
  }
 },
 "nbformat": 4,
 "nbformat_minor": 2
}
