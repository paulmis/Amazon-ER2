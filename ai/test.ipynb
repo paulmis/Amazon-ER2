{
 "cells": [
  {
   "cell_type": "code",
   "execution_count": 1,
   "metadata": {},
   "outputs": [
    {
     "name": "stdout",
     "output_type": "stream",
     "text": [
      "Create new client\n",
      "  Using region: us-east-1\n",
      "boto3 Bedrock client successfully created!\n",
      "bedrock-runtime(https://bedrock-runtime.us-east-1.amazonaws.com)\n"
     ]
    }
   ],
   "source": [
    "from preprocess import *\n",
    "from issue_extractor import *\n",
    "\n",
    "dataset = get_preprocessed_dataset()"
   ]
  },
  {
   "cell_type": "code",
   "execution_count": 12,
   "metadata": {},
   "outputs": [
    {
     "name": "stdout",
     "output_type": "stream",
     "text": [
      "For product:  POSH MOBILE VOLT 4G LTE ANDROID GSM UNLOCKED DUAL SIM 5.0\" HD SMARTPHONE with 4,000maH ULTRA EXTENDED LIFE BATTERY 8MP Camera and 16GB of Storage. 1 Year warranty. (Model#: L540 SPACE GRAY)  we have  14  reviews\n"
     ]
    }
   ],
   "source": [
    "products = dataset['Product Name'].unique()\n",
    "\n",
    "def get_reviews_of_product(product_name):\n",
    "    return dataset[dataset['Product Name'] == product_name]\n",
    "\n",
    "# Sample random product\n",
    "sample_product = np.random.choice(products)\n",
    "reviews_of_product = get_reviews_of_product(sample_product)\n",
    "reviews_of_product['LLM_OUTPUT'] = compute_issues_for_reviews(reviews_of_product)\n",
    "print(\"For product: \", sample_product, \" we have \", len(reviews_of_product), \" reviews\")"
   ]
  },
  {
   "cell_type": "code",
   "execution_count": 15,
   "metadata": {},
   "outputs": [
    {
     "data": {
      "text/plain": [
       "{'low volume': ['low volume', 'low volume', 'low volume'],\n",
       " 'audio quality': ['audio quality', 'audio quality'],\n",
       " 'screen condition': ['screen condition', 'screen condition'],\n",
       " 'device defective': ['device defective', 'device defective'],\n",
       " 'poor quality': ['poor quality', 'poor quality', 'bad service']}"
      ]
     },
     "execution_count": 15,
     "metadata": {},
     "output_type": "execute_result"
    }
   ],
   "source": [
    "clustered_issue_names = cluster_issues_for_reviews(reviews_of_product)"
   ]
  },
  {
   "cell_type": "code",
   "execution_count": null,
   "metadata": {},
   "outputs": [],
   "source": [
    "reviews_of_product.to_csv('output.csv')"
   ]
  },
  {
   "cell_type": "code",
   "execution_count": null,
   "metadata": {},
   "outputs": [],
   "source": []
  }
 ],
 "metadata": {
  "kernelspec": {
   "display_name": "Python 3",
   "language": "python",
   "name": "python3"
  },
  "language_info": {
   "codemirror_mode": {
    "name": "ipython",
    "version": 3
   },
   "file_extension": ".py",
   "mimetype": "text/x-python",
   "name": "python",
   "nbconvert_exporter": "python",
   "pygments_lexer": "ipython3",
   "version": "3.10.11"
  }
 },
 "nbformat": 4,
 "nbformat_minor": 2
}
